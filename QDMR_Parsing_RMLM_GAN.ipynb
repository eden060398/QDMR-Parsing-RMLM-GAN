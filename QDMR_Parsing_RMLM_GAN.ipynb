{
  "nbformat": 4,
  "nbformat_minor": 0,
  "metadata": {
    "colab": {
      "name": "QDMR-Parsing-RMLM-GAN.ipynb",
      "provenance": [],
      "collapsed_sections": []
    },
    "kernelspec": {
      "name": "python3",
      "display_name": "Python 3"
    },
    "accelerator": "TPU"
  },
  "cells": [
    {
      "cell_type": "markdown",
      "metadata": {
        "id": "u3sT0Zx6Is9i",
        "colab_type": "text"
      },
      "source": [
        "Note: Select runtime- change runtime type- TPU"
      ]
    },
    {
      "cell_type": "code",
      "metadata": {
        "id": "gsdizkBEDUOx",
        "colab_type": "code",
        "colab": {}
      },
      "source": [
        "import os\n",
        "assert os.environ['COLAB_TPU_ADDR'], 'Make sure to select TPU from Edit > Notebook settings > Hardware accelerator'"
      ],
      "execution_count": 0,
      "outputs": []
    },
    {
      "cell_type": "code",
      "metadata": {
        "id": "tSlLUS-oDbUi",
        "colab_type": "code",
        "colab": {}
      },
      "source": [
        "VERSION = \"20200325\"  #@param [\"1.5\" , \"20200325\", \"nightly\"]\n",
        "!curl https://raw.githubusercontent.com/pytorch/xla/master/contrib/scripts/env-setup.py -o pytorch-xla-env-setup.py\n",
        "!python pytorch-xla-env-setup.py --version $VERSION"
      ],
      "execution_count": 0,
      "outputs": []
    },
    {
      "cell_type": "code",
      "metadata": {
        "id": "l0fGj6GBLJDP",
        "colab_type": "code",
        "colab": {}
      },
      "source": [
        "!pip install -U transformers"
      ],
      "execution_count": 0,
      "outputs": []
    },
    {
      "cell_type": "code",
      "metadata": {
        "id": "9oqZcUz3KNUz",
        "colab_type": "code",
        "colab": {}
      },
      "source": [
        "%cd /content\n",
        "!wget https://github.com/allenai/Break/raw/master/break_dataset/Break-dataset.zip\n",
        "\n",
        "import zipfile\n",
        "\n",
        "with zipfile.ZipFile(\"Break-dataset.zip\",\"r\") as zip_ref:\n",
        "  zip_ref.extractall()\n",
        "\n",
        "\n",
        "%rm -rf Break-dataset.zip"
      ],
      "execution_count": 0,
      "outputs": []
    },
    {
      "cell_type": "code",
      "metadata": {
        "id": "53d1slF7MrOS",
        "colab_type": "code",
        "colab": {}
      },
      "source": [
        "%cd /content\n",
        "!wget https://github.com/eden060398/QDMR-Parsing-RMLM-GAN/archive/master.zip\n",
        "\n",
        "import zipfile\n",
        "\n",
        "with zipfile.ZipFile(\"master.zip\",\"r\") as zip_ref:\n",
        "  zip_ref.extractall()\n",
        "\n",
        "\n",
        "%rm -rf master.zip\n",
        "%cd /content/QDMR-Parsing-RMLM-GAN-master"
      ],
      "execution_count": 0,
      "outputs": []
    },
    {
      "cell_type": "code",
      "metadata": {
        "id": "d7_0THDyJ1FI",
        "colab_type": "code",
        "colab": {}
      },
      "source": [
        "!python main.py"
      ],
      "execution_count": 0,
      "outputs": []
    }
  ]
}